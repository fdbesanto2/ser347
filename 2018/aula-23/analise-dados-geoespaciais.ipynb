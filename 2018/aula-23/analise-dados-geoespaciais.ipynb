{
 "cells": [
  {
   "cell_type": "markdown",
   "metadata": {
    "slideshow": {
     "slide_type": "slide"
    }
   },
   "source": [
    "# <span style=\"color:#336699\">SER-347 - Introdução à Programação para Sensoriamento Remoto</span>\n",
    "<hr style=\"border:2px solid #0077b9;\">\n",
    "\n",
    "# <span style=\"color:#336699\">Aula 23 - Análise de Dados Geoespaciais</span>\n",
    "\n",
    "\n",
    "[<img src=\"http://geopandas.org/_images/world_gdp_per_cap_red.png\" alt=\"GeoPandas\" width=\"150\" align=\"right\">](http://geopandas.org)\n",
    "\n",
    "\n",
    "- Gilberto Ribeiro de Queiroz\n",
    "- Thales Sehn Körting\n",
    "- Fabiano Morelli"
   ]
  },
  {
   "cell_type": "markdown",
   "metadata": {
    "slideshow": {
     "slide_type": "slide"
    }
   },
   "source": [
    "# 1. Pandas e GeoPandas: análise de dados em Python\n",
    "<hr style=\"border:1px solid #0077b9;\">\n",
    "\n",
    "<table>\n",
    "    <tr>\n",
    "        <td><img src=\"http://pandas.pydata.org/_static/pandas_logo.png\" alt=\"Python Data Analysis Library\" width=\"300;\"/></td>\n",
    "        <td><img src=\"http://geopandas.org/_images/world_gdp_per_cap_red.png\" alt=\"Python Geospatial Data Analysis Library\" width=\"200\"/></td>\n",
    "    </tr>\n",
    "</table>"
   ]
  },
  {
   "cell_type": "markdown",
   "metadata": {},
   "source": [
    "## Pandas\n",
    "\n",
    "Fornece duas estruturas de dados básicas: `Series` e `DataFrame`. Para estas estruturas, existem diversas operações de alto nível disponíveis, tais como: agregação de valores e visualização básica através da matplotlib.\n",
    "\n",
    "Um objeto do tipo `Series` representa um vetor (ou array unidimensional) capaz de armazenar qualquer tipo de dado, como números inteiros, strings ou objetos como data e hora. Possui um eixo (*axis*) usado para rotular cada valor do vetor. Esses rótulos funcionam como um índice para os valores da série.\n",
    "\n",
    "<table>\n",
    "  <caption style=\"font-size: 20px;text-align: center\">Series</caption>\n",
    "  <tbody>\n",
    "    <tr>\n",
    "      <td style=\"font-weight: bold;text-align: center\"></td>\n",
    "      <td style=\"font-weight: bold;text-align: center\">municipio</td>    \n",
    "    </tr>\n",
    "    <tr>\n",
    "      <td style=\"text-align: center\">0</td>\n",
    "      <td style=\"text-align: left\">Sítio Novo Do Tocantins</td>\n",
    "    </tr>\n",
    "    <tr>\n",
    "      <td style=\"text-align: center\">1</td>\n",
    "      <td style=\"text-align: left\">Ouro Preto</td>\n",
    "    </tr>\n",
    "    <tr>\n",
    "      <td style=\"text-align: center\">2</td>\n",
    "      <td style=\"text-align: left\">Mariana</td>\n",
    "    </tr>\n",
    "    <tr>\n",
    "      <td style=\"text-align: center\">3</td>\n",
    "      <td style=\"text-align: left\">Araxá</td>\n",
    "    </tr>\n",
    "    <tr>\n",
    "      <td style=\"text-align: center\">4</td>\n",
    "      <td style=\"text-align: left\">Belo Horizonte</td>\n",
    "    </tr>\n",
    "  </tbody>\n",
    "</table>"
   ]
  },
  {
   "cell_type": "markdown",
   "metadata": {
    "slideshow": {
     "slide_type": "subslide"
    }
   },
   "source": [
    "Um objeto do tipo `DataFrame` representa um tabela bidimensional com os eixos rotulados (linhas e colunas).\n",
    "\n",
    "<table>\n",
    "  <caption style=\"font-size: 20px;text-align: center\">DataFrame</caption>\n",
    "  <tbody>\n",
    "    <tr>\n",
    "      <td style=\"font-weight: bold;text-align: center\"></td>\n",
    "      <td style=\"font-weight: bold;text-align: center\">municipio</td>    \n",
    "      <td style=\"font-weight: bold;text-align: center\">estado</td>\n",
    "      <td style=\"font-weight: bold;text-align: center\">regiao</td>\n",
    "      <td style=\"font-weight: bold;text-align: center\">pais</td>\n",
    "      <td style=\"font-weight: bold;text-align: center\">satelite</td>\n",
    "      <td style=\"font-weight: bold;text-align: center\">bioma</td>\n",
    "      <td style=\"font-weight: bold;text-align: center\">timestamp</td>\n",
    "      <td style=\"font-weight: bold;text-align: center\">satelite_r</td>\n",
    "    </tr>\n",
    "    <tr>\n",
    "      <td style=\"text-align: center\">0</td>\n",
    "      <td style=\"text-align: center\">Sítio Novo Do Tocantins</td>\n",
    "      <td style=\"text-align: center\">Tocantins</td>\n",
    "      <td style=\"text-align: center\">N</td>\n",
    "      <td style=\"text-align: center\">Brazil</td>\n",
    "      <td style=\"text-align: center\">NPP_375</td>\n",
    "      <td style=\"text-align: center\">Cerrado</td>\n",
    "      <td style=\"text-align: center\">2016/02/12 17:05:45</td>\n",
    "      <td style=\"text-align: center\">f</td>\n",
    "    </tr>\n",
    "    <tr>\n",
    "      <td style=\"text-align: center\">1</td>\n",
    "      <td style=\"text-align: center\">Sítio Novo Do Tocantins</td>\n",
    "      <td style=\"text-align: center\">Tocantins</td>\n",
    "      <td style=\"text-align: center\">N</td>\n",
    "      <td style=\"text-align: center\">Brazil</td>\n",
    "      <td style=\"text-align: center\">NPP_375</td>\n",
    "      <td style=\"text-align: center\">Cerrado</td>\n",
    "      <td style=\"text-align: center\">2016/07/17 04:00:00</td>\n",
    "      <td style=\"text-align: center\">f</td>\n",
    "    </tr>\n",
    "    <tr>\n",
    "      <td style=\"text-align: center\">2</td>\n",
    "      <td style=\"text-align: center\">Sítio Novo Do Tocantins</td>\n",
    "      <td style=\"text-align: center\">Tocantins</td>\n",
    "      <td style=\"text-align: center\">N</td>\n",
    "      <td style=\"text-align: center\">Brazil</td>\n",
    "      <td style=\"text-align: center\">AQUA_M-T</td>\n",
    "      <td style=\"text-align: center\">Cerrado</td>\n",
    "      <td style=\"text-align: center\">2016/01/15 16:40:14</td>\n",
    "      <td style=\"text-align: center\">t</td>\n",
    "    </tr>\n",
    "    <tr>\n",
    "      <td style=\"text-align: center\">3</td>\n",
    "      <td style=\"text-align: center\">Sítio Novo Do Tocantins</td>\n",
    "      <td style=\"text-align: center\">Tocantins</td>\n",
    "      <td style=\"text-align: center\">N</td>\n",
    "      <td style=\"text-align: center\">Brazil</td>\n",
    "      <td style=\"text-align: center\">NPP_375</td>\n",
    "      <td style=\"text-align: center\">Cerrado</td>\n",
    "      <td style=\"text-align: center\">2016/07/17 04:00:00</td>\n",
    "      <td style=\"text-align: center\">f</td>\n",
    "    </tr>\n",
    "    <tr>\n",
    "      <td style=\"text-align: center\">4</td>\n",
    "      <td style=\"text-align: center\">Sítio Novo Do Tocantins</td>\n",
    "      <td style=\"text-align: center\">Tocantins</td>\n",
    "      <td style=\"text-align: center\">N</td>\n",
    "      <td style=\"text-align: center\">Brazil</td>\n",
    "      <td style=\"text-align: center\">NPP_375</td>\n",
    "      <td style=\"text-align: center\">Cerrado</td>\n",
    "      <td style=\"text-align: center\">2016/02/12 17:05:45</td>\n",
    "      <td style=\"text-align: center\">f</td>\n",
    "    </tr>\n",
    "  </tbody>\n",
    "</table>"
   ]
  },
  {
   "cell_type": "markdown",
   "metadata": {
    "slideshow": {
     "slide_type": "subslide"
    }
   },
   "source": [
    "## GeoPandas\n",
    "\n",
    "Possui facilidades para tratar colunas com dados geométricos, incluindo visualização.\n",
    "\n",
    "As duas estruturas fornecidas são:\n",
    "- `GeoSeries`: um vetor contendo uma representação geométrica em conformidade com os tipos da *OGC Simple Feature*: `Point`, `LineString`, `Polygon`, `MultiPoint`, `MultiLineString`, `MultiPolygon`. Essa estrutura possui as mesmas operações da classe `Series` do Pandas além de operações espaciais como cálculo de área, perímetro, distâncias, entre outras.\n",
    "\n",
    "<table>\n",
    "  <caption style=\"font-size: 20px;text-align: center\">GeoSeries</caption>\n",
    "  <tbody>\n",
    "    <tr>\n",
    "      <td style=\"font-weight: bold;text-align: center\"></td>\n",
    "      <td style=\"font-weight: bold;text-align: center\">municipio</td>    \n",
    "    </tr>\n",
    "    <tr>\n",
    "      <td style=\"text-align: center\">0</td>\n",
    "      <td style=\"text-align: left\">POINT (-47.607 -5.673)</td>\n",
    "    </tr>\n",
    "    <tr>\n",
    "      <td style=\"text-align: center\">1</td>\n",
    "      <td style=\"text-align: left\">POINT (-47.606 -5.581)</td>\n",
    "    </tr>\n",
    "    <tr>\n",
    "      <td style=\"text-align: center\">2</td>\n",
    "      <td style=\"text-align: left\">POINT (-47.734 -5.562)</td>\n",
    "    </tr>\n",
    "    <tr>\n",
    "      <td style=\"text-align: center\">3</td>\n",
    "      <td style=\"text-align: left\">POINT (-47.605 -5.58)</td>\n",
    "    </tr>\n",
    "    <tr>\n",
    "      <td style=\"text-align: center\">4</td>\n",
    "      <td style=\"text-align: left\">POINT (-47.606 -5.677)</td>\n",
    "    </tr>\n",
    "  </tbody>\n",
    "</table>"
   ]
  },
  {
   "cell_type": "markdown",
   "metadata": {},
   "source": [
    "- `GeoDataFrame`: tabela com uma coluna geométrica.\n",
    "\n",
    "<table>\n",
    "  <caption style=\"font-size: 20px;text-align: center\">GeoDataFrame</caption>\n",
    "  <tbody>\n",
    "    <tr>\n",
    "      <td style=\"font-weight: bold;text-align: center\"></td>\n",
    "      <td style=\"font-weight: bold;text-align: center\">municipio</td>    \n",
    "      <td style=\"font-weight: bold;text-align: center\">estado</td>\n",
    "      <td style=\"font-weight: bold;text-align: center\">regiao</td>\n",
    "      <td style=\"font-weight: bold;text-align: center\">pais</td>\n",
    "      <td style=\"font-weight: bold;text-align: center\">satelite</td>\n",
    "      <td style=\"font-weight: bold;text-align: center\">bioma</td>\n",
    "      <td style=\"font-weight: bold;text-align: center\">timestamp</td>\n",
    "      <td style=\"font-weight: bold;text-align: center\">satelite_r</td>\n",
    "      <td style=\"font-weight: bold;text-align: center\">geometry</td>\n",
    "    </tr>\n",
    "    <tr>\n",
    "      <td style=\"text-align: center\">0</td>\n",
    "      <td style=\"text-align: center\">Sítio Novo Do Tocantins</td>\n",
    "      <td style=\"text-align: center\">Tocantins</td>\n",
    "      <td style=\"text-align: center\">N</td>\n",
    "      <td style=\"text-align: center\">Brazil</td>\n",
    "      <td style=\"text-align: center\">NPP_375</td>\n",
    "      <td style=\"text-align: center\">Cerrado</td>\n",
    "      <td style=\"text-align: center\">2016/02/12 17:05:45</td>\n",
    "      <td style=\"text-align: center\">f</td>\n",
    "      <td style=\"text-align: left\">POINT (-47.607 -5.673)</td>\n",
    "    </tr>\n",
    "    <tr>\n",
    "      <td style=\"text-align: center\">1</td>\n",
    "      <td style=\"text-align: center\">Sítio Novo Do Tocantins</td>\n",
    "      <td style=\"text-align: center\">Tocantins</td>\n",
    "      <td style=\"text-align: center\">N</td>\n",
    "      <td style=\"text-align: center\">Brazil</td>\n",
    "      <td style=\"text-align: center\">NPP_375</td>\n",
    "      <td style=\"text-align: center\">Cerrado</td>\n",
    "      <td style=\"text-align: center\">2016/07/17 04:00:00</td>\n",
    "      <td style=\"text-align: center\">f</td>\n",
    "      <td style=\"text-align: left\">POINT (-47.606 -5.581)</td>\n",
    "    </tr>\n",
    "    <tr>\n",
    "      <td style=\"text-align: center\">2</td>\n",
    "      <td style=\"text-align: center\">Sítio Novo Do Tocantins</td>\n",
    "      <td style=\"text-align: center\">Tocantins</td>\n",
    "      <td style=\"text-align: center\">N</td>\n",
    "      <td style=\"text-align: center\">Brazil</td>\n",
    "      <td style=\"text-align: center\">AQUA_M-T</td>\n",
    "      <td style=\"text-align: center\">Cerrado</td>\n",
    "      <td style=\"text-align: center\">2016/01/15 16:40:14</td>\n",
    "      <td style=\"text-align: center\">t</td>\n",
    "      <td style=\"text-align: left\">POINT (-47.734 -5.562)</td>\n",
    "    </tr>\n",
    "    <tr>\n",
    "      <td style=\"text-align: center\">3</td>\n",
    "      <td style=\"text-align: center\">Sítio Novo Do Tocantins</td>\n",
    "      <td style=\"text-align: center\">Tocantins</td>\n",
    "      <td style=\"text-align: center\">N</td>\n",
    "      <td style=\"text-align: center\">Brazil</td>\n",
    "      <td style=\"text-align: center\">NPP_375</td>\n",
    "      <td style=\"text-align: center\">Cerrado</td>\n",
    "      <td style=\"text-align: center\">2016/07/17 04:00:00</td>\n",
    "      <td style=\"text-align: center\">f</td>\n",
    "      <td style=\"text-align: left\">POINT (-47.605 -5.58)</td>\n",
    "    </tr>\n",
    "    <tr>\n",
    "      <td style=\"text-align: center\">4</td>\n",
    "      <td style=\"text-align: center\">Sítio Novo Do Tocantins</td>\n",
    "      <td style=\"text-align: center\">Tocantins</td>\n",
    "      <td style=\"text-align: center\">N</td>\n",
    "      <td style=\"text-align: center\">Brazil</td>\n",
    "      <td style=\"text-align: center\">NPP_375</td>\n",
    "      <td style=\"text-align: center\">Cerrado</td>\n",
    "      <td style=\"text-align: center\">2016/02/12 17:05:45</td>\n",
    "      <td style=\"text-align: center\">f</td>\n",
    "      <td style=\"text-align: left\">POINT (-47.606 -5.677)</td>\n",
    "    </tr>\n",
    "  </tbody>\n",
    "</table>"
   ]
  },
  {
   "cell_type": "markdown",
   "metadata": {
    "slideshow": {
     "slide_type": "slide"
    }
   },
   "source": [
    "# 2. Dados de Entrada\n",
    "<hr style=\"border:1px solid #0077b9;\">\n",
    "\n",
    "<table>\n",
    "    <caption>**Figura 1** - Dados de Entrada.</caption>\n",
    "    <tr>\n",
    "        <td>\n",
    "            <img src=\"img/focos-2016.png\" alt=\"Focos Brasil no ano de 2016\" width=\"330\" align=\"middle\"/>\n",
    "        </td>\n",
    "        <td>\n",
    "            <img src=\"img/municipios.png\" alt=\"Municípios Brasileiros\" width=\"200\" align=\"middle\"/>\n",
    "        </td>\n",
    "    </tr>\n",
    "    <tr>\n",
    "        <th>Focos de Queimada - MG e GO - 2016<br>Fonte: Programa Queimadas - INPE</th>\n",
    "        <th>Malha Municipal<br>Fonte: IBGE</th>\n",
    "    </tr>\n",
    "</table>"
   ]
  },
  {
   "cell_type": "markdown",
   "metadata": {
    "slideshow": {
     "slide_type": "slide"
    }
   },
   "source": [
    "# 3. GeoPandas\n",
    "<hr style=\"border:1px solid #0077b9;\">"
   ]
  },
  {
   "cell_type": "markdown",
   "metadata": {
    "slideshow": {
     "slide_type": "-"
    }
   },
   "source": [
    "Vamos importar as bibliotecas `pandas`, `geopandas` e `matplotlib` para podermos manipular os dados com focos de queimada usando um `GeoDataFrame`:"
   ]
  },
  {
   "cell_type": "code",
   "execution_count": null,
   "metadata": {
    "slideshow": {
     "slide_type": "fragment"
    }
   },
   "outputs": [],
   "source": [
    "import pandas as pd\n",
    "import geopandas as gpd\n",
    "import matplotlib.pyplot as plt"
   ]
  },
  {
   "cell_type": "markdown",
   "metadata": {
    "slideshow": {
     "slide_type": "subslide"
    }
   },
   "source": [
    "# 3.1. Explorando os Focos de Queimadas\n",
    "<hr style=\"border:0.25px solid #0077b9;\">"
   ]
  },
  {
   "cell_type": "markdown",
   "metadata": {
    "slideshow": {
     "slide_type": "fragment"
    }
   },
   "source": [
    "Abrir o shapefile e transformá-lo em um `GeoDataFrame`:"
   ]
  },
  {
   "cell_type": "code",
   "execution_count": null,
   "metadata": {
    "slideshow": {
     "slide_type": "fragment"
    }
   },
   "outputs": [],
   "source": [
    "focos = gpd.read_file(\"/Users/gribeiro/Dados/Queimadas/focos/mg-go-2016.shp\")"
   ]
  },
  {
   "cell_type": "markdown",
   "metadata": {
    "slideshow": {
     "slide_type": "fragment"
    }
   },
   "source": [
    "Vamos ver uma amostra dos dados:"
   ]
  },
  {
   "cell_type": "code",
   "execution_count": null,
   "metadata": {
    "scrolled": false,
    "slideshow": {
     "slide_type": "fragment"
    }
   },
   "outputs": [],
   "source": [
    "focos.head()"
   ]
  },
  {
   "cell_type": "markdown",
   "metadata": {},
   "source": [
    "Quantos focos foram carregados no DataFrame?"
   ]
  },
  {
   "cell_type": "code",
   "execution_count": null,
   "metadata": {},
   "outputs": [],
   "source": [
    "len(focos)"
   ]
  },
  {
   "cell_type": "markdown",
   "metadata": {
    "slideshow": {
     "slide_type": "subslide"
    }
   },
   "source": [
    "Podemos descobrir os tipos de dados das colunas do `GeoDataFrame` através do atributo `dtypes`: "
   ]
  },
  {
   "cell_type": "code",
   "execution_count": null,
   "metadata": {
    "slideshow": {
     "slide_type": "fragment"
    }
   },
   "outputs": [],
   "source": [
    "focos.dtypes"
   ]
  },
  {
   "cell_type": "markdown",
   "metadata": {
    "slideshow": {
     "slide_type": "slide"
    }
   },
   "source": [
    "**V1:** Visualizar os focos de queimada em um mapa."
   ]
  },
  {
   "cell_type": "code",
   "execution_count": null,
   "metadata": {
    "slideshow": {
     "slide_type": "fragment"
    }
   },
   "outputs": [],
   "source": [
    "focos.plot(marker='x', color='red', markersize=5);"
   ]
  },
  {
   "cell_type": "markdown",
   "metadata": {
    "slideshow": {
     "slide_type": "slide"
    }
   },
   "source": [
    "**T1:** Alterar o formato da coluna `timestamp` para o tipo `datetime` para facilitar a manipulação dos dados desta coluna:"
   ]
  },
  {
   "cell_type": "code",
   "execution_count": null,
   "metadata": {
    "slideshow": {
     "slide_type": "fragment"
    }
   },
   "outputs": [],
   "source": [
    "focos[\"timestamp\"] = pd.to_datetime(focos[\"timestamp\"])"
   ]
  },
  {
   "cell_type": "code",
   "execution_count": null,
   "metadata": {
    "slideshow": {
     "slide_type": "fragment"
    }
   },
   "outputs": [],
   "source": [
    "focos.dtypes"
   ]
  },
  {
   "cell_type": "code",
   "execution_count": null,
   "metadata": {
    "slideshow": {
     "slide_type": "fragment"
    }
   },
   "outputs": [],
   "source": [
    "focos.head()"
   ]
  },
  {
   "cell_type": "markdown",
   "metadata": {
    "slideshow": {
     "slide_type": "slide"
    }
   },
   "source": [
    "**V2:** Visualizar os focos de queimada do estado de Minas Gerais:"
   ]
  },
  {
   "cell_type": "markdown",
   "metadata": {
    "slideshow": {
     "slide_type": "fragment"
    }
   },
   "source": [
    "Podemos selecionar da tabela focos apenas as linhas contendo os focos de Minas Gerais:"
   ]
  },
  {
   "cell_type": "code",
   "execution_count": null,
   "metadata": {
    "slideshow": {
     "slide_type": "fragment"
    }
   },
   "outputs": [],
   "source": [
    "focos_mg = focos[focos.estado == 'Minas Gerais']"
   ]
  },
  {
   "cell_type": "code",
   "execution_count": null,
   "metadata": {
    "slideshow": {
     "slide_type": "fragment"
    }
   },
   "outputs": [],
   "source": [
    "focos_mg.plot(marker='x', color='red', markersize=10);"
   ]
  },
  {
   "cell_type": "markdown",
   "metadata": {
    "slideshow": {
     "slide_type": "slide"
    }
   },
   "source": [
    "**V3:** Visualizar os focos de queimada do estado de Minas Gerais no mês de novembro:"
   ]
  },
  {
   "cell_type": "code",
   "execution_count": null,
   "metadata": {
    "slideshow": {
     "slide_type": "fragment"
    }
   },
   "outputs": [],
   "source": [
    "focos_mg_nov = focos_mg[focos_mg.timestamp.dt.month == 11]"
   ]
  },
  {
   "cell_type": "code",
   "execution_count": null,
   "metadata": {
    "slideshow": {
     "slide_type": "fragment"
    }
   },
   "outputs": [],
   "source": [
    "focos_mg_nov.plot(marker='x', color='red', markersize=10);"
   ]
  },
  {
   "cell_type": "markdown",
   "metadata": {
    "slideshow": {
     "slide_type": "slide"
    }
   },
   "source": [
    "**Q1:** Qual a distribuição dos focos ao longo dos meses do ano em 2016?"
   ]
  },
  {
   "cell_type": "markdown",
   "metadata": {
    "slideshow": {
     "slide_type": "fragment"
    }
   },
   "source": [
    "Para responder esta pergunta podemos utilizar o operador de agregação (sumarização) `groupby`, disponível em um `DataFrame`.  \n",
    "\n",
    "Neste caso, precisaremos informar:\n",
    "* O critério da agregação: a parte contendo o número do mês na coluna com a data e hora da detecção do foco (coluna `timestamp`).\n",
    "* Utilizar uma das colunas para realizar a contagem através do operador `count`."
   ]
  },
  {
   "cell_type": "code",
   "execution_count": null,
   "metadata": {
    "slideshow": {
     "slide_type": "fragment"
    }
   },
   "outputs": [],
   "source": [
    "focos_mes = focos.groupby(focos.timestamp.dt.month).estado.count()"
   ]
  },
  {
   "cell_type": "markdown",
   "metadata": {
    "slideshow": {
     "slide_type": "fragment"
    }
   },
   "source": [
    "O objeto `focos_mes` retornado na operação acima corresponderá um `pandas.core.series.Series`:"
   ]
  },
  {
   "cell_type": "code",
   "execution_count": null,
   "metadata": {
    "slideshow": {
     "slide_type": "fragment"
    }
   },
   "outputs": [],
   "source": [
    "type(focos_mes)"
   ]
  },
  {
   "cell_type": "code",
   "execution_count": null,
   "metadata": {
    "slideshow": {
     "slide_type": "fragment"
    }
   },
   "outputs": [],
   "source": [
    "focos_mes"
   ]
  },
  {
   "cell_type": "markdown",
   "metadata": {
    "slideshow": {
     "slide_type": "fragment"
    }
   },
   "source": [
    "Na saída acima podemos notar o seguinte:\n",
    "* O nome da série é `estado`, por conta da coluna usada para realizar a contagem.\n",
    "* Os índices da série correspondem aos índices numéricos dos meses do ano.\n",
    "\n",
    "Podemos re-indexar a série pelo nome do mês do ano. Para isso, podemos construir uma função lambda e aplicá-la através do operador `map` a cada um dos valores numéricos do índice do ano. Para transformar o mês do ano em um nome, utilizaremos o módulo `calendar` da Biblioteca Padrão Python."
   ]
  },
  {
   "cell_type": "code",
   "execution_count": null,
   "metadata": {
    "slideshow": {
     "slide_type": "fragment"
    }
   },
   "outputs": [],
   "source": [
    "import calendar\n",
    "\n",
    "novo_indice = map(lambda v : calendar.month_abbr[v], focos_mes.index)"
   ]
  },
  {
   "cell_type": "code",
   "execution_count": null,
   "metadata": {
    "slideshow": {
     "slide_type": "fragment"
    }
   },
   "outputs": [],
   "source": [
    "l = list(novo_indice)"
   ]
  },
  {
   "cell_type": "code",
   "execution_count": null,
   "metadata": {},
   "outputs": [],
   "source": [
    "l"
   ]
  },
  {
   "cell_type": "markdown",
   "metadata": {
    "slideshow": {
     "slide_type": "fragment"
    }
   },
   "source": [
    "Agora podemos construir explicitamente a nova série através do construtor `pd.Series`:"
   ]
  },
  {
   "cell_type": "code",
   "execution_count": null,
   "metadata": {
    "slideshow": {
     "slide_type": "fragment"
    }
   },
   "outputs": [],
   "source": [
    "focos_mes = pd.Series(data=focos_mes.values, index=l)"
   ]
  },
  {
   "cell_type": "code",
   "execution_count": null,
   "metadata": {
    "slideshow": {
     "slide_type": "fragment"
    }
   },
   "outputs": [],
   "source": [
    "type(focos_mes)"
   ]
  },
  {
   "cell_type": "code",
   "execution_count": null,
   "metadata": {},
   "outputs": [],
   "source": [
    "focos_mes"
   ]
  },
  {
   "cell_type": "markdown",
   "metadata": {
    "slideshow": {
     "slide_type": "fragment"
    }
   },
   "source": [
    "Podemos também ajustar o nome da série e o rótulo do índice:"
   ]
  },
  {
   "cell_type": "code",
   "execution_count": null,
   "metadata": {
    "slideshow": {
     "slide_type": "fragment"
    }
   },
   "outputs": [],
   "source": [
    "focos_mes.name= \"Número Focos/Mês\"\n",
    "\n",
    "focos_mes.index.name=\"mes\""
   ]
  },
  {
   "cell_type": "code",
   "execution_count": null,
   "metadata": {
    "slideshow": {
     "slide_type": "fragment"
    }
   },
   "outputs": [],
   "source": [
    "focos_mes"
   ]
  },
  {
   "cell_type": "markdown",
   "metadata": {
    "slideshow": {
     "slide_type": "subslide"
    }
   },
   "source": [
    "Podemos apresentar um gráfico de barras com o total de focos por mês:"
   ]
  },
  {
   "cell_type": "code",
   "execution_count": null,
   "metadata": {
    "slideshow": {
     "slide_type": "fragment"
    }
   },
   "outputs": [],
   "source": [
    "focos_mes.plot.bar(legend=True, fontsize=20);"
   ]
  },
  {
   "cell_type": "markdown",
   "metadata": {
    "slideshow": {
     "slide_type": "subslide"
    }
   },
   "source": [
    "Podemos melhorar nosso gráfico controlando as diversas opções de plotagem fornecidas pela Matplotlib:"
   ]
  },
  {
   "cell_type": "code",
   "execution_count": null,
   "metadata": {
    "slideshow": {
     "slide_type": "fragment"
    }
   },
   "outputs": [],
   "source": [
    "ax  = focos_mes.plot(kind=\"bar\", legend=True, fontsize=20, figsize=(20,10));\n",
    "ax.set_title(\"Focos Mensal - 2016\", fontsize=36);\n",
    "ax.set_xlabel(\"Mes\", fontsize=24);\n",
    "ax.set_ylabel(\"#Focos\", fontsize=24);\n",
    "ax.legend(loc=2, prop={'size': 20});"
   ]
  },
  {
   "cell_type": "markdown",
   "metadata": {
    "slideshow": {
     "slide_type": "subslide"
    }
   },
   "source": [
    "Podemos salvar a figura do gráfico gerado:"
   ]
  },
  {
   "cell_type": "code",
   "execution_count": null,
   "metadata": {
    "slideshow": {
     "slide_type": "fragment"
    }
   },
   "outputs": [],
   "source": [
    "ax.figure.savefig(\"/home/gribeiro/Dados/Queimadas/focos/chart-focos-mes-2016.png\",\n",
    "                  dpi=100, format=\"png\")"
   ]
  },
  {
   "cell_type": "markdown",
   "metadata": {
    "slideshow": {
     "slide_type": "slide"
    }
   },
   "source": [
    "**Q2:** Qual a distribuição dos focos no ano de 2016 por bioma?"
   ]
  },
  {
   "cell_type": "code",
   "execution_count": null,
   "metadata": {
    "slideshow": {
     "slide_type": "fragment"
    }
   },
   "outputs": [],
   "source": [
    "focos_bioma = focos.groupby(\"bioma\").bioma.count()"
   ]
  },
  {
   "cell_type": "markdown",
   "metadata": {
    "slideshow": {
     "slide_type": "fragment"
    }
   },
   "source": [
    "Novamente teremos uma série de dados Pandas:"
   ]
  },
  {
   "cell_type": "code",
   "execution_count": null,
   "metadata": {
    "slideshow": {
     "slide_type": "fragment"
    }
   },
   "outputs": [],
   "source": [
    "type(focos_bioma)"
   ]
  },
  {
   "cell_type": "markdown",
   "metadata": {
    "slideshow": {
     "slide_type": "fragment"
    }
   },
   "source": [
    "Podemos acertar o nome da série e do índice:"
   ]
  },
  {
   "cell_type": "code",
   "execution_count": null,
   "metadata": {
    "slideshow": {
     "slide_type": "fragment"
    }
   },
   "outputs": [],
   "source": [
    "focos_bioma.index.name = \"Biomas\"\n",
    "focos_bioma.name = \"Numero Focos por Bioma\"\n",
    "\n",
    "focos_bioma"
   ]
  },
  {
   "cell_type": "markdown",
   "metadata": {
    "slideshow": {
     "slide_type": "fragment"
    }
   },
   "source": [
    "Podemos agora desenhar um gráfico circular:"
   ]
  },
  {
   "cell_type": "code",
   "execution_count": null,
   "metadata": {
    "slideshow": {
     "slide_type": "fragment"
    }
   },
   "outputs": [],
   "source": [
    "explode=[0.0, 0.1, 0.0]\n",
    "ax = focos_bioma.plot(kind=\"pie\", explode=explode, autopct='%1.1f%%', figsize=(8,8), fontsize=\"14\");\n",
    "ax.set_title(\"Focos por Bioma - 2016\", fontsize=20);\n",
    "ax.set_ylabel(\"\");"
   ]
  },
  {
   "cell_type": "markdown",
   "metadata": {
    "slideshow": {
     "slide_type": "slide"
    }
   },
   "source": [
    "**Q3:** Qual a frequência mensal de queimadas por bioma?"
   ]
  },
  {
   "cell_type": "markdown",
   "metadata": {
    "slideshow": {
     "slide_type": "fragment"
    }
   },
   "source": [
    "Vamos adicionar uma nova coluna chamada `mes` no `GeoDataFrame` `focos`  para facilitar o processamento:"
   ]
  },
  {
   "cell_type": "code",
   "execution_count": null,
   "metadata": {
    "slideshow": {
     "slide_type": "fragment"
    }
   },
   "outputs": [],
   "source": [
    "focos[\"mes\"] = focos[\"timestamp\"].dt.month\n",
    "\n",
    "focos.head()"
   ]
  },
  {
   "cell_type": "markdown",
   "metadata": {
    "slideshow": {
     "slide_type": "subslide"
    }
   },
   "source": [
    "Vamos apresentar as informações em uma `pivot_table`:"
   ]
  },
  {
   "cell_type": "code",
   "execution_count": null,
   "metadata": {
    "slideshow": {
     "slide_type": "fragment"
    }
   },
   "outputs": [],
   "source": [
    "pvt = pd.pivot_table(focos, values=\"id\", index=[\"bioma\"],\n",
    "                     columns=[\"mes\"], aggfunc=\"count\",\n",
    "                     fill_value=0, margins=True)\n",
    "\n",
    "pvt.columns=['jan', 'fev', 'mar', 'abr', 'mai', 'jun', 'jul', 'ago', 'set', 'out', 'nov', 'dez', 'total']\n",
    "\n",
    "pvt"
   ]
  },
  {
   "cell_type": "markdown",
   "metadata": {
    "slideshow": {
     "slide_type": "subslide"
    }
   },
   "source": [
    "Vamos remover a totalização nas linhas e colunas para obter uma estatística descritiva:"
   ]
  },
  {
   "cell_type": "code",
   "execution_count": null,
   "metadata": {
    "slideshow": {
     "slide_type": "fragment"
    }
   },
   "outputs": [],
   "source": [
    "pvt = pd.pivot_table(focos, values=\"id\", index=[\"bioma\"],\n",
    "                     columns=[\"mes\"], aggfunc=\"count\",\n",
    "                     fill_value=0)\n",
    "\n",
    "pvt.columns=['jan', 'fev', 'mar', 'abr', 'mai', 'jun', 'jul', 'ago', 'set', 'out', 'nov', 'dez']\n",
    "\n",
    "pvt"
   ]
  },
  {
   "cell_type": "code",
   "execution_count": null,
   "metadata": {
    "slideshow": {
     "slide_type": "fragment"
    }
   },
   "outputs": [],
   "source": [
    "pvt.describe()"
   ]
  },
  {
   "cell_type": "markdown",
   "metadata": {
    "slideshow": {
     "slide_type": "slide"
    }
   },
   "source": [
    "**Q4:** apresentar uma tabela com a quantidade de focos por município ao longo dos meses."
   ]
  },
  {
   "cell_type": "code",
   "execution_count": null,
   "metadata": {
    "slideshow": {
     "slide_type": "fragment"
    }
   },
   "outputs": [],
   "source": [
    "pvt = pd.pivot_table(focos, values=\"id\", index=[\"estado\", \"municipio\"], columns=[\"mes\"], aggfunc=\"count\", fill_value=0, margins=True)\n",
    "\n",
    "pvt.columns=['jan', 'fev', 'mar', 'abr', 'mai', 'jun', 'jul', 'ago', 'set', 'out', 'nov', 'dez', 'total']\n",
    "\n",
    "pvt.head()"
   ]
  },
  {
   "cell_type": "markdown",
   "metadata": {
    "slideshow": {
     "slide_type": "slide"
    }
   },
   "source": [
    "**Q5:** Quais os municípios do **\"top 5\"**?"
   ]
  },
  {
   "cell_type": "code",
   "execution_count": null,
   "metadata": {
    "slideshow": {
     "slide_type": "fragment"
    }
   },
   "outputs": [],
   "source": [
    "top5 = pvt[\"total\"].sort_values(ascending=False).iloc[1:6]\n",
    "top5"
   ]
  },
  {
   "cell_type": "markdown",
   "metadata": {
    "slideshow": {
     "slide_type": "subslide"
    }
   },
   "source": [
    "Outra forma de obter o \"top5\" seria:"
   ]
  },
  {
   "cell_type": "code",
   "execution_count": null,
   "metadata": {},
   "outputs": [],
   "source": [
    "top5 = focos.groupby([\"estado\", \"municipio\"]).municipio.count().sort_values(ascending=False)[0:5]\n",
    "top5"
   ]
  },
  {
   "cell_type": "markdown",
   "metadata": {
    "slideshow": {
     "slide_type": "slide"
    }
   },
   "source": [
    "**V4.** Abrir o mapa de municípios brasileiros e fazer uma visualização."
   ]
  },
  {
   "cell_type": "code",
   "execution_count": null,
   "metadata": {
    "slideshow": {
     "slide_type": "fragment"
    }
   },
   "outputs": [],
   "source": [
    "municipios = gpd.read_file(\"/Users/gribeiro/OneDrive/Dados/IBGE/organizacao territorial/BRMUE250GC_SIR.shp\")\n",
    "\n",
    "municipios.head()"
   ]
  },
  {
   "cell_type": "markdown",
   "metadata": {
    "slideshow": {
     "slide_type": "subslide"
    }
   },
   "source": [
    "Alterar o nome das colunas da camada de municípios para facilitar nosso trabalho:"
   ]
  },
  {
   "cell_type": "code",
   "execution_count": null,
   "metadata": {
    "slideshow": {
     "slide_type": "fragment"
    }
   },
   "outputs": [],
   "source": [
    "municipios.columns = [\"nome\", \"cod_ibge\", \"geometry\"]\n",
    "\n",
    "municipios.head()"
   ]
  },
  {
   "cell_type": "code",
   "execution_count": null,
   "metadata": {
    "scrolled": true,
    "slideshow": {
     "slide_type": "fragment"
    }
   },
   "outputs": [],
   "source": [
    "municipios.plot(color='white', edgecolor='black', figsize=(20, 10));"
   ]
  },
  {
   "cell_type": "markdown",
   "metadata": {
    "slideshow": {
     "slide_type": "slide"
    }
   },
   "source": [
    "**V5:** Municípios de MG.\n",
    "\n",
    "**Obs.:** Os dois primeiro dígitos do código do IBGE para os municípios de Minas Gerais na coluna `cod_ibge` é `31`."
   ]
  },
  {
   "cell_type": "code",
   "execution_count": null,
   "metadata": {
    "slideshow": {
     "slide_type": "skip"
    }
   },
   "outputs": [],
   "source": [
    "munic_mg = municipios[municipios[\"cod_ibge\"].str[0:2] == \"31\"]\n",
    "\n",
    "munic_mg.head()"
   ]
  },
  {
   "cell_type": "code",
   "execution_count": null,
   "metadata": {
    "slideshow": {
     "slide_type": "fragment"
    }
   },
   "outputs": [],
   "source": [
    "munic_mg.plot(color='white', edgecolor='black', figsize=(20, 10));"
   ]
  },
  {
   "cell_type": "markdown",
   "metadata": {
    "slideshow": {
     "slide_type": "slide"
    }
   },
   "source": [
    "**V6:** Mostrar os municípios de Minas Gerais e os focos do mês de maio de 2016."
   ]
  },
  {
   "cell_type": "code",
   "execution_count": null,
   "metadata": {
    "slideshow": {
     "slide_type": "fragment"
    }
   },
   "outputs": [],
   "source": [
    "base = munic_mg.plot(color='white', edgecolor='black', figsize=(20, 10));\n",
    "\n",
    "focos_mg = focos[focos.estado == \"Minas Gerais\"]\n",
    "\n",
    "focos_mg.plot(ax=base, marker='o', color='red', markersize=10);"
   ]
  }
 ],
 "metadata": {
  "kernelspec": {
   "display_name": "Python (geospatial)",
   "language": "python",
   "name": "geospatial"
  },
  "language_info": {
   "codemirror_mode": {
    "name": "ipython",
    "version": 3
   },
   "file_extension": ".py",
   "mimetype": "text/x-python",
   "name": "python",
   "nbconvert_exporter": "python",
   "pygments_lexer": "ipython3",
   "version": "3.6.5"
  },
  "toc": {
   "base_numbering": 1,
   "nav_menu": {},
   "number_sections": false,
   "sideBar": true,
   "skip_h1_title": false,
   "title_cell": "Table of Contents",
   "title_sidebar": "Contents",
   "toc_cell": false,
   "toc_position": {},
   "toc_section_display": true,
   "toc_window_display": false
  }
 },
 "nbformat": 4,
 "nbformat_minor": 2
}
